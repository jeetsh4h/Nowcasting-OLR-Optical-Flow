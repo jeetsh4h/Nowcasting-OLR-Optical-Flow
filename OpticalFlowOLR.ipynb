{
  "cells": [
    {
      "cell_type": "markdown",
      "metadata": {
        "id": "EY2jnkkhUl_N"
      },
      "source": [
        "# Setting up Google Colab Environment"
      ]
    },
    {
      "cell_type": "code",
      "execution_count": 1,
      "metadata": {
        "colab": {
          "base_uri": "https://localhost:8080/"
        },
        "id": "nOTUqC35SYU_",
        "outputId": "6848da25-eedf-47b9-d144-9d1953f657bc"
      },
      "outputs": [
        {
          "name": "stdout",
          "output_type": "stream",
          "text": [
            "Reading package lists... Done\n",
            "Building dependency tree       \n",
            "Reading state information... Done\n",
            "libproj-dev is already the newest version (7.2.1-1~focal0).\n",
            "libproj-dev set to manually installed.\n",
            "The following additional packages will be installed:\n",
            "  libeccodes-data libeccodes0\n",
            "The following NEW packages will be installed:\n",
            "  libeccodes-data libeccodes-dev libeccodes0\n",
            "0 upgraded, 3 newly installed, 0 to remove and 24 not upgraded.\n",
            "Need to get 2,609 kB of archives.\n",
            "After this operation, 54.1 MB of additional disk space will be used.\n",
            "Get:1 http://archive.ubuntu.com/ubuntu focal/universe amd64 libeccodes-data all 2.16.0-1 [1,394 kB]\n",
            "Get:2 http://archive.ubuntu.com/ubuntu focal/universe amd64 libeccodes0 amd64 2.16.0-1 [502 kB]\n",
            "Get:3 http://archive.ubuntu.com/ubuntu focal/universe amd64 libeccodes-dev amd64 2.16.0-1 [712 kB]\n",
            "Fetched 2,609 kB in 1s (1,762 kB/s)\n",
            "Selecting previously unselected package libeccodes-data.\n",
            "(Reading database ... 122352 files and directories currently installed.)\n",
            "Preparing to unpack .../libeccodes-data_2.16.0-1_all.deb ...\n",
            "Unpacking libeccodes-data (2.16.0-1) ...\n",
            "Selecting previously unselected package libeccodes0:amd64.\n",
            "Preparing to unpack .../libeccodes0_2.16.0-1_amd64.deb ...\n",
            "Unpacking libeccodes0:amd64 (2.16.0-1) ...\n",
            "Selecting previously unselected package libeccodes-dev:amd64.\n",
            "Preparing to unpack .../libeccodes-dev_2.16.0-1_amd64.deb ...\n",
            "Unpacking libeccodes-dev:amd64 (2.16.0-1) ...\n",
            "Setting up libeccodes-data (2.16.0-1) ...\n",
            "Setting up libeccodes0:amd64 (2.16.0-1) ...\n",
            "Setting up libeccodes-dev:amd64 (2.16.0-1) ...\n",
            "Processing triggers for libc-bin (2.31-0ubuntu9.9) ...\n",
            "Looking in indexes: https://pypi.org/simple, https://us-python.pkg.dev/colab-wheels/public/simple/\n",
            "Collecting pyproj\n",
            "  Downloading pyproj-3.5.0-cp39-cp39-manylinux_2_17_x86_64.manylinux2014_x86_64.whl (7.8 MB)\n",
            "\u001b[2K     \u001b[90m━━━━━━━━━━━━━━━━━━━━━━━━━━━━━━━━━━━━━━━━\u001b[0m \u001b[32m7.8/7.8 MB\u001b[0m \u001b[31m24.3 MB/s\u001b[0m eta \u001b[36m0:00:00\u001b[0m\n",
            "\u001b[?25hRequirement already satisfied: certifi in /usr/local/lib/python3.9/dist-packages (from pyproj) (2022.12.7)\n",
            "Installing collected packages: pyproj\n",
            "Successfully installed pyproj-3.5.0\n",
            "Looking in indexes: https://pypi.org/simple, https://us-python.pkg.dev/colab-wheels/public/simple/\n",
            "Collecting pygrib\n",
            "  Downloading pygrib-2.1.4-cp39-cp39-manylinux_2_12_x86_64.manylinux2010_x86_64.whl (16.5 MB)\n",
            "\u001b[2K     \u001b[90m━━━━━━━━━━━━━━━━━━━━━━━━━━━━━━━━━━━━━━━━\u001b[0m \u001b[32m16.5/16.5 MB\u001b[0m \u001b[31m39.8 MB/s\u001b[0m eta \u001b[36m0:00:00\u001b[0m\n",
            "\u001b[?25hRequirement already satisfied: pyproj in /usr/local/lib/python3.9/dist-packages (from pygrib) (3.5.0)\n",
            "Requirement already satisfied: numpy in /usr/local/lib/python3.9/dist-packages (from pygrib) (1.22.4)\n",
            "Requirement already satisfied: certifi in /usr/local/lib/python3.9/dist-packages (from pyproj->pygrib) (2022.12.7)\n",
            "Installing collected packages: pygrib\n",
            "Successfully installed pygrib-2.1.4\n"
          ]
        }
      ],
      "source": [
        "# These libraries are needed for the pygrib library in Colab.\n",
        "# Note that is needed if you install pygrib using pip.\n",
        "# If you use conda, the libraries will be installed automatically.\n",
        "! apt-get install libeccodes-dev libproj-dev\n",
        "\n",
        "# Install the python packages\n",
        "! pip install pyproj\n",
        "! pip install pygrib"
      ]
    },
    {
      "cell_type": "code",
      "execution_count": 2,
      "metadata": {
        "colab": {
          "base_uri": "https://localhost:8080/"
        },
        "id": "A6Pz1M1oTxoQ",
        "outputId": "7b19f089-63f9-4d1c-a24c-ed6a7bb61994"
      },
      "outputs": [
        {
          "name": "stdout",
          "output_type": "stream",
          "text": [
            "Found existing installation: shapely 2.0.1\n",
            "Uninstalling shapely-2.0.1:\n",
            "  Successfully uninstalled shapely-2.0.1\n"
          ]
        }
      ],
      "source": [
        "# Uninstall existing shapely\n",
        "# We will re-install shapely in the next step by ignoring the binary\n",
        "# wheels to make it compatible with other modules that depend on\n",
        "# GEOS, such as Cartopy (used here).\n",
        "! pip uninstall --yes shapely"
      ]
    },
    {
      "cell_type": "code",
      "execution_count": 3,
      "metadata": {
        "colab": {
          "base_uri": "https://localhost:8080/"
        },
        "id": "R0Gc8mG3T0Kw",
        "outputId": "3508d115-2e38-45fc-e9f0-a6c5ab807bea"
      },
      "outputs": [
        {
          "name": "stdout",
          "output_type": "stream",
          "text": [
            "Looking in indexes: https://pypi.org/simple, https://us-python.pkg.dev/colab-wheels/public/simple/\n",
            "Collecting shapely\n",
            "  Downloading shapely-2.0.1-cp39-cp39-manylinux_2_17_x86_64.manylinux2014_x86_64.whl (2.3 MB)\n",
            "\u001b[2K     \u001b[90m━━━━━━━━━━━━━━━━━━━━━━━━━━━━━━━━━━━━━━━━\u001b[0m \u001b[32m2.3/2.3 MB\u001b[0m \u001b[31m57.5 MB/s\u001b[0m eta \u001b[36m0:00:00\u001b[0m\n",
            "\u001b[?25hRequirement already satisfied: numpy>=1.14 in /usr/local/lib/python3.9/dist-packages (from shapely) (1.22.4)\n",
            "Installing collected packages: shapely\n",
            "Successfully installed shapely-2.0.1\n",
            "Looking in indexes: https://pypi.org/simple, https://us-python.pkg.dev/colab-wheels/public/simple/\n",
            "Collecting cartopy\n",
            "  Downloading Cartopy-0.21.1.tar.gz (10.9 MB)\n",
            "\u001b[2K     \u001b[90m━━━━━━━━━━━━━━━━━━━━━━━━━━━━━━━━━━━━━━━━\u001b[0m \u001b[32m10.9/10.9 MB\u001b[0m \u001b[31m22.9 MB/s\u001b[0m eta \u001b[36m0:00:00\u001b[0m\n",
            "\u001b[?25h  Installing build dependencies ... \u001b[?25l\u001b[?25hdone\n",
            "  Getting requirements to build wheel ... \u001b[?25l\u001b[?25hdone\n",
            "  Preparing metadata (pyproject.toml) ... \u001b[?25l\u001b[?25hdone\n",
            "Requirement already satisfied: numpy>=1.18 in /usr/local/lib/python3.9/dist-packages (from cartopy) (1.22.4)\n",
            "Requirement already satisfied: pyproj>=3.0.0 in /usr/local/lib/python3.9/dist-packages (from cartopy) (3.5.0)\n",
            "Requirement already satisfied: matplotlib>=3.1 in /usr/local/lib/python3.9/dist-packages (from cartopy) (3.7.1)\n",
            "Collecting pyshp>=2.1\n",
            "  Downloading pyshp-2.3.1-py2.py3-none-any.whl (46 kB)\n",
            "\u001b[2K     \u001b[90m━━━━━━━━━━━━━━━━━━━━━━━━━━━━━━━━━━━━━━━━\u001b[0m \u001b[32m46.5/46.5 kB\u001b[0m \u001b[31m3.9 MB/s\u001b[0m eta \u001b[36m0:00:00\u001b[0m\n",
            "\u001b[?25hRequirement already satisfied: shapely>=1.6.4 in /usr/local/lib/python3.9/dist-packages (from cartopy) (2.0.1)\n",
            "Requirement already satisfied: pyparsing>=2.3.1 in /usr/local/lib/python3.9/dist-packages (from matplotlib>=3.1->cartopy) (3.0.9)\n",
            "Requirement already satisfied: contourpy>=1.0.1 in /usr/local/lib/python3.9/dist-packages (from matplotlib>=3.1->cartopy) (1.0.7)\n",
            "Requirement already satisfied: kiwisolver>=1.0.1 in /usr/local/lib/python3.9/dist-packages (from matplotlib>=3.1->cartopy) (1.4.4)\n",
            "Requirement already satisfied: python-dateutil>=2.7 in /usr/local/lib/python3.9/dist-packages (from matplotlib>=3.1->cartopy) (2.8.2)\n",
            "Requirement already satisfied: cycler>=0.10 in /usr/local/lib/python3.9/dist-packages (from matplotlib>=3.1->cartopy) (0.11.0)\n",
            "Requirement already satisfied: fonttools>=4.22.0 in /usr/local/lib/python3.9/dist-packages (from matplotlib>=3.1->cartopy) (4.39.3)\n",
            "Requirement already satisfied: importlib-resources>=3.2.0 in /usr/local/lib/python3.9/dist-packages (from matplotlib>=3.1->cartopy) (5.12.0)\n",
            "Requirement already satisfied: packaging>=20.0 in /usr/local/lib/python3.9/dist-packages (from matplotlib>=3.1->cartopy) (23.1)\n",
            "Requirement already satisfied: pillow>=6.2.0 in /usr/local/lib/python3.9/dist-packages (from matplotlib>=3.1->cartopy) (8.4.0)\n",
            "Requirement already satisfied: certifi in /usr/local/lib/python3.9/dist-packages (from pyproj>=3.0.0->cartopy) (2022.12.7)\n",
            "Requirement already satisfied: zipp>=3.1.0 in /usr/local/lib/python3.9/dist-packages (from importlib-resources>=3.2.0->matplotlib>=3.1->cartopy) (3.15.0)\n",
            "Requirement already satisfied: six>=1.5 in /usr/local/lib/python3.9/dist-packages (from python-dateutil>=2.7->matplotlib>=3.1->cartopy) (1.16.0)\n",
            "Building wheels for collected packages: cartopy\n",
            "  Building wheel for cartopy (pyproject.toml) ... \u001b[?25l\u001b[?25hdone\n",
            "  Created wheel for cartopy: filename=Cartopy-0.21.1-cp39-cp39-linux_x86_64.whl size=11113652 sha256=88ec0dd832b0b487a960d70ab4377f74ff2f0e8df53191bd4d1dbb83c026384f\n",
            "  Stored in directory: /root/.cache/pip/wheels/74/b9/f5/2c94acd7cd21480e6cf63169144d7aac3e8d9cf638225ed578\n",
            "Successfully built cartopy\n",
            "Installing collected packages: pyshp, cartopy\n",
            "Successfully installed cartopy-0.21.1 pyshp-2.3.1\n"
          ]
        }
      ],
      "source": [
        "# To install cartopy in Colab using pip, we need to install the library\n",
        "# dependencies first.\n",
        "\n",
        "! apt-get install -qq libgdal-dev libgeos-dev\n",
        "! pip install shapely --no-cache-dir shapely\n",
        "! pip install cartopy"
      ]
    },
    {
      "cell_type": "code",
      "execution_count": 4,
      "metadata": {
        "colab": {
          "base_uri": "https://localhost:8080/"
        },
        "id": "5RyRgYE5T24I",
        "outputId": "2b4007f9-2fb2-4cc7-9ff0-8fa9c6e923ce"
      },
      "outputs": [
        {
          "name": "stdout",
          "output_type": "stream",
          "text": [
            "Looking in indexes: https://pypi.org/simple, https://us-python.pkg.dev/colab-wheels/public/simple/\n",
            "Collecting pysteps\n",
            "  Downloading pysteps-1.7.2.tar.gz (502 kB)\n",
            "\u001b[2K     \u001b[90m━━━━━━━━━━━━━━━━━━━━━━━━━━━━━━━━━━━━━━\u001b[0m \u001b[32m502.2/502.2 kB\u001b[0m \u001b[31m12.9 MB/s\u001b[0m eta \u001b[36m0:00:00\u001b[0m\n",
            "\u001b[?25h  Installing build dependencies ... \u001b[?25l\u001b[?25hdone\n",
            "  Getting requirements to build wheel ... \u001b[?25l\u001b[?25hdone\n",
            "  Installing backend dependencies ... \u001b[?25l\u001b[?25hdone\n",
            "  Preparing metadata (pyproject.toml) ... \u001b[?25l\u001b[?25hdone\n",
            "Requirement already satisfied: matplotlib in /usr/local/lib/python3.9/dist-packages (from pysteps) (3.7.1)\n",
            "Requirement already satisfied: jsonschema in /usr/local/lib/python3.9/dist-packages (from pysteps) (4.3.3)\n",
            "Collecting jsmin\n",
            "  Using cached jsmin-3.0.1-py3-none-any.whl\n",
            "Requirement already satisfied: numpy in /usr/local/lib/python3.9/dist-packages (from pysteps) (1.22.4)\n",
            "Requirement already satisfied: scipy in /usr/local/lib/python3.9/dist-packages (from pysteps) (1.10.1)\n",
            "Requirement already satisfied: attrs>=17.4.0 in /usr/local/lib/python3.9/dist-packages (from jsonschema->pysteps) (23.1.0)\n",
            "Requirement already satisfied: pyrsistent!=0.17.0,!=0.17.1,!=0.17.2,>=0.14.0 in /usr/local/lib/python3.9/dist-packages (from jsonschema->pysteps) (0.19.3)\n",
            "Requirement already satisfied: pyparsing>=2.3.1 in /usr/local/lib/python3.9/dist-packages (from matplotlib->pysteps) (3.0.9)\n",
            "Requirement already satisfied: importlib-resources>=3.2.0 in /usr/local/lib/python3.9/dist-packages (from matplotlib->pysteps) (5.12.0)\n",
            "Requirement already satisfied: cycler>=0.10 in /usr/local/lib/python3.9/dist-packages (from matplotlib->pysteps) (0.11.0)\n",
            "Requirement already satisfied: contourpy>=1.0.1 in /usr/local/lib/python3.9/dist-packages (from matplotlib->pysteps) (1.0.7)\n",
            "Requirement already satisfied: fonttools>=4.22.0 in /usr/local/lib/python3.9/dist-packages (from matplotlib->pysteps) (4.39.3)\n",
            "Requirement already satisfied: packaging>=20.0 in /usr/local/lib/python3.9/dist-packages (from matplotlib->pysteps) (23.1)\n",
            "Requirement already satisfied: pillow>=6.2.0 in /usr/local/lib/python3.9/dist-packages (from matplotlib->pysteps) (8.4.0)\n",
            "Requirement already satisfied: python-dateutil>=2.7 in /usr/local/lib/python3.9/dist-packages (from matplotlib->pysteps) (2.8.2)\n",
            "Requirement already satisfied: kiwisolver>=1.0.1 in /usr/local/lib/python3.9/dist-packages (from matplotlib->pysteps) (1.4.4)\n",
            "Requirement already satisfied: zipp>=3.1.0 in /usr/local/lib/python3.9/dist-packages (from importlib-resources>=3.2.0->matplotlib->pysteps) (3.15.0)\n",
            "Requirement already satisfied: six>=1.5 in /usr/local/lib/python3.9/dist-packages (from python-dateutil>=2.7->matplotlib->pysteps) (1.16.0)\n",
            "Building wheels for collected packages: pysteps\n",
            "  Building wheel for pysteps (pyproject.toml) ... \u001b[?25l\u001b[?25hdone\n",
            "  Created wheel for pysteps: filename=pysteps-1.7.2-cp39-cp39-linux_x86_64.whl size=1297830 sha256=445c9574e6609fa181e0e51d15ea83ffc3ae25b7b2937a02b1cd79504b75b22c\n",
            "  Stored in directory: /root/.cache/pip/wheels/46/16/14/5561628889f07d62400c52d2c8a8d9a49e25b9ce7e1f4c7151\n",
            "Successfully built pysteps\n",
            "Installing collected packages: jsmin, pysteps\n",
            "Successfully installed jsmin-3.0.1 pysteps-1.7.2\n"
          ]
        }
      ],
      "source": [
        "! pip install pysteps"
      ]
    },
    {
      "cell_type": "code",
      "execution_count": 5,
      "metadata": {
        "colab": {
          "base_uri": "https://localhost:8080/"
        },
        "id": "2iLAEQ8bbm5Q",
        "outputId": "ba1eaba5-48bb-445b-b015-88b54000faeb"
      },
      "outputs": [
        {
          "name": "stdout",
          "output_type": "stream",
          "text": [
            "Looking in indexes: https://pypi.org/simple, https://us-python.pkg.dev/colab-wheels/public/simple/\n",
            "Requirement already satisfied: h5py in /usr/local/lib/python3.9/dist-packages (3.8.0)\n",
            "Requirement already satisfied: numpy>=1.14.5 in /usr/local/lib/python3.9/dist-packages (from h5py) (1.22.4)\n"
          ]
        }
      ],
      "source": [
        "! pip install h5py"
      ]
    },
    {
      "cell_type": "code",
      "execution_count": 6,
      "metadata": {
        "colab": {
          "base_uri": "https://localhost:8080/"
        },
        "id": "Hgsg3eZeITi7",
        "outputId": "26441246-dadb-496f-a619-58c2aa83f9aa"
      },
      "outputs": [
        {
          "name": "stdout",
          "output_type": "stream",
          "text": [
            "Looking in indexes: https://pypi.org/simple, https://us-python.pkg.dev/colab-wheels/public/simple/\n",
            "Requirement already satisfied: moviepy in /usr/local/lib/python3.9/dist-packages (1.0.3)\n",
            "Requirement already satisfied: requests<3.0,>=2.8.1 in /usr/local/lib/python3.9/dist-packages (from moviepy) (2.27.1)\n",
            "Requirement already satisfied: numpy>=1.17.3 in /usr/local/lib/python3.9/dist-packages (from moviepy) (1.22.4)\n",
            "Requirement already satisfied: decorator<5.0,>=4.0.2 in /usr/local/lib/python3.9/dist-packages (from moviepy) (4.4.2)\n",
            "Requirement already satisfied: imageio-ffmpeg>=0.2.0 in /usr/local/lib/python3.9/dist-packages (from moviepy) (0.4.8)\n",
            "Requirement already satisfied: tqdm<5.0,>=4.11.2 in /usr/local/lib/python3.9/dist-packages (from moviepy) (4.65.0)\n",
            "Requirement already satisfied: proglog<=1.0.0 in /usr/local/lib/python3.9/dist-packages (from moviepy) (0.1.10)\n",
            "Requirement already satisfied: imageio<3.0,>=2.5 in /usr/local/lib/python3.9/dist-packages (from moviepy) (2.25.1)\n",
            "Requirement already satisfied: pillow>=8.3.2 in /usr/local/lib/python3.9/dist-packages (from imageio<3.0,>=2.5->moviepy) (8.4.0)\n",
            "Requirement already satisfied: certifi>=2017.4.17 in /usr/local/lib/python3.9/dist-packages (from requests<3.0,>=2.8.1->moviepy) (2022.12.7)\n",
            "Requirement already satisfied: idna<4,>=2.5 in /usr/local/lib/python3.9/dist-packages (from requests<3.0,>=2.8.1->moviepy) (3.4)\n",
            "Requirement already satisfied: charset-normalizer~=2.0.0 in /usr/local/lib/python3.9/dist-packages (from requests<3.0,>=2.8.1->moviepy) (2.0.12)\n",
            "Requirement already satisfied: urllib3<1.27,>=1.21.1 in /usr/local/lib/python3.9/dist-packages (from requests<3.0,>=2.8.1->moviepy) (1.26.15)\n",
            "Looking in indexes: https://pypi.org/simple, https://us-python.pkg.dev/colab-wheels/public/simple/\n",
            "Requirement already satisfied: scipy in /usr/local/lib/python3.9/dist-packages (1.10.1)\n",
            "Requirement already satisfied: numpy<1.27.0,>=1.19.5 in /usr/local/lib/python3.9/dist-packages (from scipy) (1.22.4)\n"
          ]
        }
      ],
      "source": [
        "! pip install moviepy\n",
        "! pip install scipy"
      ]
    },
    {
      "cell_type": "code",
      "execution_count": 7,
      "metadata": {
        "colab": {
          "base_uri": "https://localhost:8080/"
        },
        "id": "biEqz4F_S1hv",
        "outputId": "fd2dd7fa-125b-4d38-d65f-f860f6c19842"
      },
      "outputs": [
        {
          "name": "stdout",
          "output_type": "stream",
          "text": [
            "Drive already mounted at /content/drive; to attempt to forcibly remount, call drive.mount(\"/content/drive\", force_remount=True).\n"
          ]
        }
      ],
      "source": [
        "from google.colab import drive\n",
        "drive.mount('/content/drive')"
      ]
    },
    {
      "cell_type": "markdown",
      "metadata": {
        "id": "LcyMObdbdKmd"
      },
      "source": [
        "# Imports"
      ]
    },
    {
      "cell_type": "code",
      "execution_count": 8,
      "metadata": {
        "colab": {
          "base_uri": "https://localhost:8080/",
          "height": 0
        },
        "id": "0T383V-adM5n",
        "outputId": "dda556ea-76da-46bf-f9c4-67297bcc811b"
      },
      "outputs": [
        {
          "name": "stdout",
          "output_type": "stream",
          "text": [
            "Pysteps configuration file found at: /usr/local/lib/python3.9/dist-packages/pysteps/pystepsrc\n",
            "\n"
          ]
        },
        {
          "data": {
            "application/vnd.google.colaboratory.intrinsic+json": {
              "type": "string"
            },
            "text/plain": [
              "'just copy-pasted the function from source code'"
            ]
          },
          "execution_count": 8,
          "metadata": {},
          "output_type": "execute_result"
        }
      ],
      "source": [
        "import numpy as np\n",
        "import h5py\n",
        "from datetime import datetime\n",
        "import cv2\n",
        "import matplotlib.pyplot as plt\n",
        "from moviepy.video.io.bindings import mplfig_to_npimage\n",
        "from moviepy.editor import ImageSequenceClip\n",
        "from scipy.io import loadmat\n",
        "\n",
        "from pysteps.motion.lucaskanade import dense_lucaskanade\n",
        "from pysteps.visualization.motionfields import quiver\n",
        "from pysteps.extrapolation.semilagrangian import extrapolate\n",
        "from pysteps.verification.spatialscores import fss\n",
        "\n",
        "# from pysteps.io.archive import find_by_date\n",
        "\"\"\"just copy-pasted the function from source code\"\"\""
      ]
    },
    {
      "attachments": {},
      "cell_type": "markdown",
      "metadata": {
        "id": "KZj8ZBe2UrNU"
      },
      "source": [
        "# Pre-Processing"
      ]
    },
    {
      "cell_type": "code",
      "execution_count": 9,
      "metadata": {
        "id": "J4KHe4UvkKjM"
      },
      "outputs": [],
      "source": [
        "# -*- coding: utf-8 -*-\n",
        "\"\"\"\n",
        "pysteps.io.archive\n",
        "==================\n",
        "\n",
        "Utilities for finding archived files that match the given criteria.\n",
        "\n",
        ".. autosummary::\n",
        "    :toctree: ../generated/\n",
        "\n",
        "    find_by_date\n",
        "\"\"\"\n",
        "\n",
        "from datetime import datetime, timedelta\n",
        "import fnmatch\n",
        "import os\n",
        "\n",
        "\n",
        "def find_by_date(\n",
        "    date,\n",
        "    root_path,\n",
        "    path_fmt,\n",
        "    fn_pattern,\n",
        "    fn_ext,\n",
        "    timestep,\n",
        "    num_prev_files=0,\n",
        "    num_next_files=0,\n",
        "    silent=False,\n",
        "):\n",
        "    \"\"\"\n",
        "    List input files whose timestamp matches the given date.\n",
        "\n",
        "    Parameters\n",
        "    ----------\n",
        "    date: datetime.datetime\n",
        "        The given date.\n",
        "    root_path: str\n",
        "        The root path to search the input files.\n",
        "    path_fmt: str\n",
        "        Path format. It may consist of directory names separated by '/',\n",
        "        date/time specifiers beginning with '%' (e.g. %Y/%m/%d) and wildcards\n",
        "        (?) that match any single character.\n",
        "    fn_pattern: str\n",
        "        The name pattern of the input files without extension. The pattern can\n",
        "        contain time specifiers (e.g. %H, %M and %S).\n",
        "    fn_ext: str\n",
        "        Extension of the input files.\n",
        "    timestep: float\n",
        "        Time step between consecutive input files (minutes).\n",
        "    num_prev_files: int\n",
        "        Optional, number of previous files to find before the given timestamp.\n",
        "    num_next_files: int\n",
        "        Optional, number of future files to find after the given timestamp.\n",
        "    silent: bool\n",
        "        Optional, whether to suppress all messages from the method.\n",
        "\n",
        "    Returns\n",
        "    -------\n",
        "    out: tuple\n",
        "        If num_prev_files=0 and num_next_files=0, return a pair containing the\n",
        "        found file name and the corresponding timestamp as a datetime.datetime\n",
        "        object. Otherwise, return a tuple of two lists, the first one for the\n",
        "        file names and the second one for the corresponding timestemps. The lists\n",
        "        are sorted in ascending order with respect to timestamp. A None value is\n",
        "        assigned if a file name corresponding to a given timestamp is not found.\n",
        "\n",
        "    \"\"\"\n",
        "    filenames = []\n",
        "    timestamps = []\n",
        "\n",
        "    for i in range(num_prev_files + num_next_files + 1):\n",
        "        curdate = (\n",
        "            date\n",
        "            + timedelta(minutes=num_next_files * timestep)\n",
        "            - timedelta(minutes=i * timestep)\n",
        "        )\n",
        "        fn = _find_matching_filename(\n",
        "            curdate, root_path, path_fmt, fn_pattern, fn_ext, silent\n",
        "        )\n",
        "        filenames.append(fn)\n",
        "\n",
        "        timestamps.append(curdate)\n",
        "\n",
        "    if all(filename is None for filename in filenames):\n",
        "        raise IOError(\"no input data found in %s\" % root_path)\n",
        "\n",
        "    if (num_prev_files + num_next_files) > 0:\n",
        "        return filenames[::-1], timestamps[::-1]\n",
        "    else:\n",
        "        return filenames, timestamps\n",
        "\n",
        "\n",
        "def _find_matching_filename(\n",
        "    date, root_path, path_fmt, fn_pattern, fn_ext, silent=False\n",
        "):\n",
        "    path = _generate_path(date, root_path, path_fmt)\n",
        "    fn = None\n",
        "\n",
        "    if os.path.exists(path):\n",
        "      #######----------------------###########\n",
        "        fn = datetime.strftime(date, fn_pattern).upper() + \".\" + fn_ext\n",
        "      # added the .upper() here\n",
        "      #######----------------------###########\n",
        "\n",
        "        # test for wildcards\n",
        "        if \"?\" in fn:\n",
        "            filenames = os.listdir(path)\n",
        "            if len(filenames) > 0:\n",
        "                for filename in filenames:\n",
        "                    if fnmatch.fnmatch(filename, fn):\n",
        "                        fn = filename\n",
        "                        break\n",
        "\n",
        "        fn = os.path.join(path, fn)\n",
        "\n",
        "        if os.path.exists(fn):\n",
        "            fn = fn\n",
        "        else:\n",
        "    # made some changes, was not working as intended\n",
        "            if not silent:\n",
        "                print(f\"file not found: {fn}\")\n",
        "            fn = None\n",
        "    elif not silent:\n",
        "        print(\"path\", path, \"not found.\")\n",
        "\n",
        "    return fn\n",
        "\n",
        "\n",
        "def _generate_path(date, root_path, path_format):\n",
        "    \"\"\"Generate file path.\"\"\"\n",
        "    if not isinstance(date, datetime):\n",
        "        raise TypeError(\"The input 'date' argument must be a datetime object\")\n",
        "\n",
        "    if path_format != \"\":\n",
        "        sub_path = date.strftime(path_format)\n",
        "        return os.path.join(root_path, sub_path)\n",
        "    else:\n",
        "        return root_path\n"
      ]
    },
    {
      "cell_type": "code",
      "execution_count": 10,
      "metadata": {
        "id": "KbORbc5aUhvM"
      },
      "outputs": [],
      "source": [
        "# made by Prof. Kaushik Gopalan\n",
        "\n",
        "def h5ToArray(h5f):\n",
        "    # Location information\n",
        "    lat = h5f['Latitude'][()] * 0.01\n",
        "    lon = h5f['Longitude'][()] * 0.01\n",
        "\n",
        "    # Retrieving Outgoing Longwave Radiation (OLR)\n",
        "    olr = np.squeeze(h5f['OLR'][()])\n",
        "\n",
        "    ###################\n",
        "    # Filter data within location of interest\n",
        "    ###################\n",
        "\n",
        "    lat_filtered = lat[(lat >= 0) & (lat < 40) & (lon >= 60) & (lon < 100)]\n",
        "    lon_filtered = lon[(lat >= 0) & (lat < 40) & (lon >= 60) & (lon < 100)]\n",
        "    olr_filtered = olr[(lat >= 0) & (lat < 40) & (lon >= 60) & (lon < 100)]\n",
        "\n",
        "    ###################\n",
        "    # Grid data into rectangular grid from 0-40N Latitude, 60-100E Longitude\n",
        "    # with 0.1 deg resolution\n",
        "    ###################\n",
        "\n",
        "    olr_grid = np.zeros((400,400))\n",
        "    cnt = np.zeros((400,400))\n",
        "\n",
        "    # Generating index values\n",
        "    lat_ind = np.int32((lat_filtered-0) * 10)\n",
        "    lon_ind = np.int32((lon_filtered-60) * 10)\n",
        "    \n",
        "    np.add.at(olr_grid, (lat_ind, lon_ind), olr_filtered)\n",
        "    np.add.at(cnt, (lat_ind, lon_ind), 1)\n",
        "\n",
        "    olr_grid[cnt > 0] = olr_grid[cnt > 0] / cnt[cnt > 0]  \n",
        "    olr_grid[cnt == 0] = np.nan\n",
        "\n",
        "    return olr_grid\n"
      ]
    },
    {
      "cell_type": "code",
      "execution_count": 12,
      "metadata": {
        "id": "AMuTXhvqem_W"
      },
      "outputs": [],
      "source": [
        "def OLRtoImages_None(files):\n",
        "    processed_files = np.zeros((len(files), 400, 400))\n",
        "    for i in range(len(files)):\n",
        "        if files[i] is None:\n",
        "            continue\n",
        "        olr_values = h5ToArray(h5py.File(files[i]))\n",
        "        processed_files[i] = olr_values\n",
        "    \n",
        "    return processed_files"
      ]
    },
    {
      "cell_type": "code",
      "execution_count": 13,
      "metadata": {
        "colab": {
          "base_uri": "https://localhost:8080/"
        },
        "id": "HcZJRRcaaYAz",
        "outputId": "4a1bfff1-08b4-4bd8-fadb-d3fd1675365b"
      },
      "outputs": [
        {
          "name": "stdout",
          "output_type": "stream",
          "text": [
            "file not found: /content/drive/MyDrive/Nowcasting/olr_data/3DIMG_15JAN2022_0830_L2B_OLR_V01R00.h5\n",
            "file not found: /content/drive/MyDrive/Nowcasting/olr_data/3DIMG_15JAN2022_0000_L2B_OLR_V01R00.h5\n",
            "file not found: /content/drive/MyDrive/Nowcasting/olr_data/3DIMG_14JAN2022_0830_L2B_OLR_V01R00.h5\n",
            "file not found: /content/drive/MyDrive/Nowcasting/olr_data/3DIMG_13JAN2022_0830_L2B_OLR_V01R00.h5\n"
          ]
        }
      ],
      "source": [
        "date = datetime(2022, 1, 10, 0, 0)\n",
        "root_path = '/content/drive/MyDrive/Nowcasting/olr_data/'\n",
        "path_fmt = ''\n",
        "fn_pattern = '3DIMG_%d%b%Y_%H%M_L2B_OLR_V01R00'\n",
        "fn_ext = 'h5'\n",
        "timestep = 30\n",
        "num_prev_files = 0\n",
        "num_next_files = 48*7 - 1\n",
        "\n",
        "# more roubst way to loop through data in file\n",
        "files, dates = find_by_date(date, root_path, path_fmt, fn_pattern, fn_ext, timestep, num_prev_files, num_next_files)"
      ]
    },
    {
      "cell_type": "code",
      "execution_count": 14,
      "metadata": {
        "id": "BHpqnxpCefya"
      },
      "outputs": [],
      "source": [
        "input_files_not_filtered = OLRtoImages_None(files)"
      ]
    },
    {
      "cell_type": "markdown",
      "metadata": {
        "id": "Iqck9fbA5tO6"
      },
      "source": [
        "# GIF Generation for 6 frames"
      ]
    },
    {
      "cell_type": "code",
      "execution_count": 15,
      "metadata": {
        "id": "f_v8CSc1YKt5"
      },
      "outputs": [],
      "source": [
        "input_img = input_files_not_filtered.copy()"
      ]
    },
    {
      "cell_type": "code",
      "execution_count": 16,
      "metadata": {
        "id": "12y9-MOI5zAw"
      },
      "outputs": [],
      "source": [
        "flow_params = {\n",
        "    'dense': True, \n",
        "    'fd_method': 'blob', \n",
        "    'interp_method': 'rbfinterp2d'\n",
        "}\n",
        "\n",
        "extrapolate_params = {\n",
        "    'timesteps': 6,\n",
        "    'interp_order': 3,  # cubic, least artifacts (highest computational time) ## 1 is default, which is linear ### 0 for highest computation time\n",
        "    'return_displacement': False,\n",
        "}"
      ]
    },
    {
      "cell_type": "markdown",
      "metadata": {
        "id": "bAy7KQfDXnwR"
      },
      "source": [
        "### Final Test"
      ]
    },
    {
      "cell_type": "code",
      "execution_count": 17,
      "metadata": {
        "colab": {
          "base_uri": "https://localhost:8080/"
        },
        "id": "eWBCzD7qOXFr",
        "outputId": "79d8ce39-90e3-4734-9dde-672c67e376b9"
      },
      "outputs": [
        {
          "data": {
            "text/plain": [
              "161"
            ]
          },
          "execution_count": 17,
          "metadata": {},
          "output_type": "execute_result"
        }
      ],
      "source": [
        "# finding the first index where a file is not available\n",
        "\n",
        "for none_idx in range(len(files)):\n",
        "    if files[none_idx] is None:\n",
        "        break\n",
        "none_idx\n",
        "# print(input_img[none_idx])\n",
        "# print(input_img[none_idx + 1], input_img[none_idx - 1])"
      ]
    },
    {
      "cell_type": "code",
      "execution_count": 18,
      "metadata": {
        "id": "UDhcDSfnWwOA"
      },
      "outputs": [],
      "source": [
        "all_frames_gen_array = []\n",
        "all_frames_truth_array = []\n",
        "for i in range(6, none_idx-6):\n",
        "    motion_field = dense_lucaskanade(input_img[i-6:i], **flow_params)\n",
        "    extrapolated_frames = extrapolate(input_img[i-1], motion_field, **extrapolate_params)\n",
        "    all_frames_gen_array.append(extrapolated_frames)\n",
        "    all_frames_truth_array.append(input_img[i:i+6])"
      ]
    },
    {
      "cell_type": "code",
      "execution_count": 19,
      "metadata": {
        "colab": {
          "base_uri": "https://localhost:8080/"
        },
        "id": "A_nrgEjF32OC",
        "outputId": "dc5b5788-efd7-485a-a964-119934dc9100"
      },
      "outputs": [
        {
          "data": {
            "text/plain": [
              "0.9942150981236472"
            ]
          },
          "execution_count": 19,
          "metadata": {},
          "output_type": "execute_result"
        }
      ],
      "source": [
        "avg_fss = np.mean([fss(all_frames_gen_array[i][j], all_frames_truth_array[i][j], 0.1, 1) for i in range(len(all_frames_gen_array)) for j in range(6)])\n",
        "avg_fss"
      ]
    },
    {
      "cell_type": "code",
      "execution_count": 27,
      "metadata": {
        "colab": {
          "base_uri": "https://localhost:8080/"
        },
        "id": "cSaeKUK8JivR",
        "outputId": "3b9f6a59-d96c-40a6-e3ec-d5284806e90f"
      },
      "outputs": [
        {
          "data": {
            "text/plain": [
              "(8.933088260084807, 21.909136105674424)"
            ]
          },
          "execution_count": 27,
          "metadata": {},
          "output_type": "execute_result"
        }
      ],
      "source": [
        "rms_1 = np.mean([np.sqrt(np.nanmean(np.square(all_frames_gen_array[i][0] - all_frames_truth_array[i][0]))) for i in range(len(all_frames_gen_array))])\n",
        "rms_6 = np.mean([np.sqrt(np.nanmean(np.square(all_frames_gen_array[i][5] - all_frames_truth_array[i][5]))) for i in range(len(all_frames_gen_array))])\n",
        "\n",
        "(rms_1, rms_6)"
      ]
    }
  ],
  "metadata": {
    "colab": {
      "collapsed_sections": [
        "EY2jnkkhUl_N",
        "LcyMObdbdKmd",
        "KZj8ZBe2UrNU",
        "lu5XZeJ5kYsg"
      ],
      "provenance": []
    },
    "gpuClass": "standard",
    "kernelspec": {
      "display_name": "Python 3",
      "name": "python3"
    },
    "language_info": {
      "name": "python"
    }
  },
  "nbformat": 4,
  "nbformat_minor": 0
}
